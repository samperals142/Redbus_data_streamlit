{
 "cells": [
  {
   "cell_type": "code",
   "execution_count": 2,
   "metadata": {},
   "outputs": [],
   "source": [
    "import pandas as pd"
   ]
  },
  {
   "cell_type": "code",
   "execution_count": 2,
   "metadata": {},
   "outputs": [],
   "source": [
    "# Read csv file to DataFrame\n",
    "df = pd.read_csv(r'CSV\\apsrtc_bus_details.csv')"
   ]
  },
  {
   "cell_type": "code",
   "execution_count": 3,
   "metadata": {},
   "outputs": [
    {
     "data": {
      "text/html": [
       "<div>\n",
       "<style scoped>\n",
       "    .dataframe tbody tr th:only-of-type {\n",
       "        vertical-align: middle;\n",
       "    }\n",
       "\n",
       "    .dataframe tbody tr th {\n",
       "        vertical-align: top;\n",
       "    }\n",
       "\n",
       "    .dataframe thead th {\n",
       "        text-align: right;\n",
       "    }\n",
       "</style>\n",
       "<table border=\"1\" class=\"dataframe\">\n",
       "  <thead>\n",
       "    <tr style=\"text-align: right;\">\n",
       "      <th></th>\n",
       "      <th>Route_Name</th>\n",
       "      <th>Route_Link</th>\n",
       "      <th>Bus_Name</th>\n",
       "      <th>Bus_Type</th>\n",
       "      <th>Departing_Time</th>\n",
       "      <th>Duration</th>\n",
       "      <th>Reaching_Time</th>\n",
       "      <th>Star_Rating</th>\n",
       "      <th>Price</th>\n",
       "      <th>Seat_Availability</th>\n",
       "    </tr>\n",
       "  </thead>\n",
       "  <tbody>\n",
       "    <tr>\n",
       "      <th>0</th>\n",
       "      <td>Hyderabad to Vijayawada</td>\n",
       "      <td>https://www.redbus.in/bus-tickets/hyderabad-to...</td>\n",
       "      <td>FRESHBUS</td>\n",
       "      <td>Electric A/C Seater (2+2)</td>\n",
       "      <td>00:20</td>\n",
       "      <td>06h 10m</td>\n",
       "      <td>06:30</td>\n",
       "      <td>4.6</td>\n",
       "      <td>829</td>\n",
       "      <td>22 Seats available</td>\n",
       "    </tr>\n",
       "    <tr>\n",
       "      <th>1</th>\n",
       "      <td>Hyderabad to Vijayawada</td>\n",
       "      <td>https://www.redbus.in/bus-tickets/hyderabad-to...</td>\n",
       "      <td>FRESHBUS</td>\n",
       "      <td>Electric A/C Seater (2+2)</td>\n",
       "      <td>23:10</td>\n",
       "      <td>06h 25m</td>\n",
       "      <td>05:35</td>\n",
       "      <td>4.5</td>\n",
       "      <td>829</td>\n",
       "      <td>19 Seats available</td>\n",
       "    </tr>\n",
       "  </tbody>\n",
       "</table>\n",
       "</div>"
      ],
      "text/plain": [
       "                Route_Name                                         Route_Link  \\\n",
       "0  Hyderabad to Vijayawada  https://www.redbus.in/bus-tickets/hyderabad-to...   \n",
       "1  Hyderabad to Vijayawada  https://www.redbus.in/bus-tickets/hyderabad-to...   \n",
       "\n",
       "   Bus_Name                   Bus_Type Departing_Time Duration Reaching_Time  \\\n",
       "0  FRESHBUS  Electric A/C Seater (2+2)          00:20  06h 10m         06:30   \n",
       "1  FRESHBUS  Electric A/C Seater (2+2)          23:10  06h 25m         05:35   \n",
       "\n",
       "   Star_Rating Price   Seat_Availability  \n",
       "0          4.6   829  22 Seats available  \n",
       "1          4.5   829  19 Seats available  "
      ]
     },
     "execution_count": 3,
     "metadata": {},
     "output_type": "execute_result"
    }
   ],
   "source": [
    "df.head(2)"
   ]
  },
  {
   "cell_type": "code",
   "execution_count": 5,
   "metadata": {},
   "outputs": [],
   "source": [
    "#Adding a column to represent the state\n",
    "df.loc[:, \"State_Transport\"] = 'Andhra Pradesh'"
   ]
  },
  {
   "cell_type": "code",
   "execution_count": 6,
   "metadata": {},
   "outputs": [
    {
     "data": {
      "text/html": [
       "<div>\n",
       "<style scoped>\n",
       "    .dataframe tbody tr th:only-of-type {\n",
       "        vertical-align: middle;\n",
       "    }\n",
       "\n",
       "    .dataframe tbody tr th {\n",
       "        vertical-align: top;\n",
       "    }\n",
       "\n",
       "    .dataframe thead th {\n",
       "        text-align: right;\n",
       "    }\n",
       "</style>\n",
       "<table border=\"1\" class=\"dataframe\">\n",
       "  <thead>\n",
       "    <tr style=\"text-align: right;\">\n",
       "      <th></th>\n",
       "      <th>Route_Name</th>\n",
       "      <th>Route_Link</th>\n",
       "      <th>Bus_Name</th>\n",
       "      <th>Bus_Type</th>\n",
       "      <th>Departing_Time</th>\n",
       "      <th>Duration</th>\n",
       "      <th>Reaching_Time</th>\n",
       "      <th>Star_Rating</th>\n",
       "      <th>Price</th>\n",
       "      <th>Seat_Availability</th>\n",
       "      <th>State_Transport</th>\n",
       "    </tr>\n",
       "  </thead>\n",
       "  <tbody>\n",
       "    <tr>\n",
       "      <th>0</th>\n",
       "      <td>Hyderabad to Vijayawada</td>\n",
       "      <td>https://www.redbus.in/bus-tickets/hyderabad-to...</td>\n",
       "      <td>FRESHBUS</td>\n",
       "      <td>Electric A/C Seater (2+2)</td>\n",
       "      <td>00:20</td>\n",
       "      <td>06h 10m</td>\n",
       "      <td>06:30</td>\n",
       "      <td>4.6</td>\n",
       "      <td>829</td>\n",
       "      <td>22 Seats available</td>\n",
       "      <td>Andhra Pradesh</td>\n",
       "    </tr>\n",
       "    <tr>\n",
       "      <th>1</th>\n",
       "      <td>Hyderabad to Vijayawada</td>\n",
       "      <td>https://www.redbus.in/bus-tickets/hyderabad-to...</td>\n",
       "      <td>FRESHBUS</td>\n",
       "      <td>Electric A/C Seater (2+2)</td>\n",
       "      <td>23:10</td>\n",
       "      <td>06h 25m</td>\n",
       "      <td>05:35</td>\n",
       "      <td>4.5</td>\n",
       "      <td>829</td>\n",
       "      <td>19 Seats available</td>\n",
       "      <td>Andhra Pradesh</td>\n",
       "    </tr>\n",
       "  </tbody>\n",
       "</table>\n",
       "</div>"
      ],
      "text/plain": [
       "                Route_Name                                         Route_Link  \\\n",
       "0  Hyderabad to Vijayawada  https://www.redbus.in/bus-tickets/hyderabad-to...   \n",
       "1  Hyderabad to Vijayawada  https://www.redbus.in/bus-tickets/hyderabad-to...   \n",
       "\n",
       "   Bus_Name                   Bus_Type Departing_Time Duration Reaching_Time  \\\n",
       "0  FRESHBUS  Electric A/C Seater (2+2)          00:20  06h 10m         06:30   \n",
       "1  FRESHBUS  Electric A/C Seater (2+2)          23:10  06h 25m         05:35   \n",
       "\n",
       "   Star_Rating Price   Seat_Availability State_Transport  \n",
       "0          4.6   829  22 Seats available  Andhra Pradesh  \n",
       "1          4.5   829  19 Seats available  Andhra Pradesh  "
      ]
     },
     "execution_count": 6,
     "metadata": {},
     "output_type": "execute_result"
    }
   ],
   "source": [
    "df.head(2)"
   ]
  },
  {
   "cell_type": "code",
   "execution_count": 7,
   "metadata": {},
   "outputs": [],
   "source": [
    "# Save the DataFrame to a CSV file\n",
    "df.to_csv(r'mod_csv\\apsrtc_bus_details.csv', index=False)"
   ]
  },
  {
   "cell_type": "code",
   "execution_count": 9,
   "metadata": {},
   "outputs": [],
   "source": [
    "# ASTC State Transport\n",
    "\n",
    "# Read csv file to DataFrame\n",
    "df = pd.read_csv(r'CSV\\astc_bus_details.csv')\n",
    "#Adding a column to represent the state\n",
    "df.loc[:, \"State_Transport\"] = 'Assam'\n",
    "# Save the DataFrame to a CSV file\n",
    "df.to_csv(r'mod_csv\\astc_bus_details.csv', index=False)"
   ]
  },
  {
   "cell_type": "code",
   "execution_count": 8,
   "metadata": {},
   "outputs": [],
   "source": [
    "# CTU State Transport\n",
    "\n",
    "# Read csv file to DataFrame\n",
    "df = pd.read_csv(r'CSV\\ctu_bus_details.csv')\n",
    "\n",
    "#Adding a column to represent the state\n",
    "df.loc[:, \"State_Transport\"] = 'Chandigarh'\n",
    "\n",
    "# Save the DataFrame to a CSV file\n",
    "df.to_csv(r'mod_csv\\ctu_bus_details.csv', index=False)"
   ]
  },
  {
   "cell_type": "code",
   "execution_count": 10,
   "metadata": {},
   "outputs": [],
   "source": [
    "# HRTC State Transport\n",
    "\n",
    "# Read csv file to DataFrame\n",
    "df = pd.read_csv(r'CSV\\hrtc_bus_details.csv')\n",
    "#Adding a column to represent the state\n",
    "df.loc[:, \"State_Transport\"] = 'Himachal'\n",
    "# Save the DataFrame to a CSV file\n",
    "df.to_csv(r'mod_csv\\hrtc_bus_details.csv', index=False)"
   ]
  },
  {
   "cell_type": "code",
   "execution_count": 11,
   "metadata": {},
   "outputs": [],
   "source": [
    "# Kadamba State Transport\n",
    "\n",
    "# Read csv file to DataFrame\n",
    "df = pd.read_csv(r'CSV\\ktcl_bus_details.csv')\n",
    "#Adding a column to represent the state\n",
    "df.loc[:, \"State_Transport\"] = 'Kadamba'\n",
    "# Save the DataFrame to a CSV file\n",
    "df.to_csv(r'mod_csv\\ktcl_bus_details.csv', index=False)"
   ]
  },
  {
   "cell_type": "code",
   "execution_count": 3,
   "metadata": {},
   "outputs": [],
   "source": [
    "# Meghalaya State Transport\n",
    "# Read csv file to DataFrame\n",
    "df = pd.read_csv(r'CSV\\mtc_bus_details.csv')\n",
    "#Adding a column to represent the state\n",
    "df.loc[:, \"State_Transport\"] = 'Meghalaya'\n",
    "# Save the DataFrame to a CSV file\n",
    "df.to_csv(r'mod_csv\\mtc_bus_details.csv', index=False)"
   ]
  },
  {
   "cell_type": "code",
   "execution_count": 13,
   "metadata": {},
   "outputs": [],
   "source": [
    "# North Bengal State Transport\n",
    "# Read csv file to DataFrame\n",
    "df = pd.read_csv(r'CSV\\north_bengal_bus_details.csv')\n",
    "#Adding a column to represent the state\n",
    "df.loc[:, \"State_Transport\"] = 'North Bengal'\n",
    "# Save the DataFrame to a CSV file\n",
    "df.to_csv(r'mod_csv\\north_bengal_bus_details.csv', index=False)"
   ]
  },
  {
   "cell_type": "code",
   "execution_count": 14,
   "metadata": {},
   "outputs": [],
   "source": [
    "# Punjab State Transport\n",
    "# Read csv file to DataFrame\n",
    "df = pd.read_csv(r'CSV\\punjab_bus_details.csv')\n",
    "#Adding a column to represent the state\n",
    "df.loc[:, \"State_Transport\"] = 'Punjab'\n",
    "# Save the DataFrame to a CSV file\n",
    "df.to_csv(r'mod_csv\\punjab_bus_details.csv', index=False)"
   ]
  },
  {
   "cell_type": "code",
   "execution_count": 4,
   "metadata": {},
   "outputs": [],
   "source": [
    "# Rajasthan  State Transport\n",
    "# Read csv file to DataFrame\n",
    "df = pd.read_csv(r'CSV\\rsrtc_bus_details.csv')\n",
    "#Adding a column to represent the state\n",
    "df.loc[:, \"State_Transport\"] = 'Rajasthan'\n",
    "# Save the DataFrame to a CSV file\n",
    "df.to_csv(r'mod_csv\\rsrtc_bus_details.csv', index=False)"
   ]
  },
  {
   "cell_type": "code",
   "execution_count": 16,
   "metadata": {},
   "outputs": [],
   "source": [
    "# South Bengal State Transport\n",
    "# Read csv file to DataFrame\n",
    "df = pd.read_csv(r'CSV\\sbstc_bus_details.csv')\n",
    "#Adding a column to represent the state\n",
    "df.loc[:, \"State_Transport\"] = 'South Bengal'\n",
    "# Save the DataFrame to a CSV file\n",
    "df.to_csv(r'mod_csv\\sbstc_bus_details.csv', index=False)"
   ]
  },
  {
   "cell_type": "code",
   "execution_count": 17,
   "metadata": {},
   "outputs": [],
   "source": [
    "# Sikkim State Transport\n",
    "# Read csv file to DataFrame\n",
    "df = pd.read_csv(r'CSV\\snt_bus_details.csv')\n",
    "#Adding a column to represent the state\n",
    "df.loc[:, \"State_Transport\"] = 'Sikkim'\n",
    "# Save the DataFrame to a CSV file\n",
    "df.to_csv(r'mod_csv\\snt_bus_details.csv', index=False)"
   ]
  },
  {
   "cell_type": "code",
   "execution_count": 18,
   "metadata": {},
   "outputs": [],
   "source": [
    "# Telangana  State Transport\n",
    "# Read csv file to DataFrame\n",
    "df = pd.read_csv(r'CSV\\tsrtc_bus_details.csv')\n",
    "#Adding a column to represent the state\n",
    "df.loc[:, \"State_Transport\"] = 'Telangana'\n",
    "# Save the DataFrame to a CSV file\n",
    "df.to_csv(r'mod_csv\\tsrtc_bus_details.csv', index=False)"
   ]
  },
  {
   "cell_type": "code",
   "execution_count": 19,
   "metadata": {},
   "outputs": [],
   "source": [
    "# Uttar Pradesh  State Transport\n",
    "# Read csv file to DataFrame\n",
    "df = pd.read_csv(r'CSV\\upsrtc_bus_details.csv')\n",
    "#Adding a column to represent the state\n",
    "df.loc[:, \"State_Transport\"] = 'Uttar Pradesh'\n",
    "# Save the DataFrame to a CSV file\n",
    "df.to_csv(r'mod_csv\\upsrtc_bus_details.csv', index=False)"
   ]
  },
  {
   "cell_type": "code",
   "execution_count": 20,
   "metadata": {},
   "outputs": [],
   "source": [
    "# West Bengal State Transport\n",
    "# Read csv file to DataFrame\n",
    "df = pd.read_csv(r'CSV\\wbtc_bus_details.csv')\n",
    "#Adding a column to represent the state\n",
    "df.loc[:, \"State_Transport\"] = 'West Bengal'\n",
    "# Save the DataFrame to a CSV file\n",
    "df.to_csv(r'mod_csv\\wbtc_bus_details.csv', index=False)"
   ]
  }
 ],
 "metadata": {
  "kernelspec": {
   "display_name": ".venv",
   "language": "python",
   "name": "python3"
  },
  "language_info": {
   "codemirror_mode": {
    "name": "ipython",
    "version": 3
   },
   "file_extension": ".py",
   "mimetype": "text/x-python",
   "name": "python",
   "nbconvert_exporter": "python",
   "pygments_lexer": "ipython3",
   "version": "3.10.11"
  }
 },
 "nbformat": 4,
 "nbformat_minor": 2
}
