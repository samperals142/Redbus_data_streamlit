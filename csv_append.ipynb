{
 "cells": [
  {
   "cell_type": "code",
   "execution_count": 1,
   "metadata": {},
   "outputs": [],
   "source": [
    "import pandas as pd\n",
    "import glob"
   ]
  },
  {
   "cell_type": "code",
   "execution_count": 3,
   "metadata": {},
   "outputs": [],
   "source": [
    "# Get a list of all CSV files in a directory\n",
    "#csv_files = glob.glob('*.csv')\n",
    "\n",
    "\n",
    "csv_files = glob.glob(r'C:\\Users\\Samperals\\Desktop\\Project_Guvi\\vscode\\CSV\\*.csv')"
   ]
  },
  {
   "cell_type": "code",
   "execution_count": 4,
   "metadata": {},
   "outputs": [
    {
     "data": {
      "text/plain": [
       "['apsrtc_bus_details.csv',\n",
       " 'astc_bus_details.csv',\n",
       " 'ctu_bus_details.csv',\n",
       " 'hrtc_bus_details.csv',\n",
       " 'ktcl_bus_details.csv',\n",
       " 'mtc_bus_details.csv',\n",
       " 'north_bengal_bus_details.csv',\n",
       " 'punjab_bus_details.csv',\n",
       " 'rsrtc_bus_details.csv',\n",
       " 'sbstc_bus_details.csv',\n",
       " 'snt_bus_details.csv',\n",
       " 'tsrtc_bus_details.csv',\n",
       " 'upsrtc_bus_details.csv',\n",
       " 'wbtc_bus_details.csv']"
      ]
     },
     "execution_count": 4,
     "metadata": {},
     "output_type": "execute_result"
    }
   ],
   "source": [
    "csv_files"
   ]
  },
  {
   "cell_type": "code",
   "execution_count": 5,
   "metadata": {},
   "outputs": [],
   "source": [
    "# Create an empty dataframe to store the combined data\n",
    "all_bus_routes_df = pd.DataFrame()\n",
    "\n",
    "# Loop through each CSV file and append its contents to the combined dataframe\n",
    "for csv_file in csv_files:\n",
    "    df = pd.read_csv(csv_file)\n",
    "    all_bus_routes_df = pd.concat([all_bus_routes_df, df],ignore_index=True)"
   ]
  },
  {
   "cell_type": "code",
   "execution_count": null,
   "metadata": {},
   "outputs": [],
   "source": [
    "# Print the combined dataframe\n",
    "print(all_bus_routes_df)"
   ]
  },
  {
   "cell_type": "code",
   "execution_count": 6,
   "metadata": {},
   "outputs": [
    {
     "data": {
      "text/plain": [
       "(8622, 10)"
      ]
     },
     "execution_count": 6,
     "metadata": {},
     "output_type": "execute_result"
    }
   ],
   "source": [
    "all_bus_routes_df.shape"
   ]
  },
  {
   "cell_type": "code",
   "execution_count": 8,
   "metadata": {},
   "outputs": [
    {
     "data": {
      "text/plain": [
       "Index(['Route_Name', 'Route_Link', 'Bus_Name', 'Bus_Type', 'Departing_Time',\n",
       "       'Duration', 'Reaching_Time', 'Star_Rating', 'Price',\n",
       "       'Seat_Availability'],\n",
       "      dtype='object')"
      ]
     },
     "execution_count": 8,
     "metadata": {},
     "output_type": "execute_result"
    }
   ],
   "source": [
    "all_bus_routes_df.columns"
   ]
  },
  {
   "cell_type": "code",
   "execution_count": 9,
   "metadata": {},
   "outputs": [
    {
     "data": {
      "text/html": [
       "<div>\n",
       "<style scoped>\n",
       "    .dataframe tbody tr th:only-of-type {\n",
       "        vertical-align: middle;\n",
       "    }\n",
       "\n",
       "    .dataframe tbody tr th {\n",
       "        vertical-align: top;\n",
       "    }\n",
       "\n",
       "    .dataframe thead th {\n",
       "        text-align: right;\n",
       "    }\n",
       "</style>\n",
       "<table border=\"1\" class=\"dataframe\">\n",
       "  <thead>\n",
       "    <tr style=\"text-align: right;\">\n",
       "      <th></th>\n",
       "      <th>Route_Name</th>\n",
       "      <th>Route_Link</th>\n",
       "      <th>Bus_Name</th>\n",
       "      <th>Bus_Type</th>\n",
       "      <th>Departing_Time</th>\n",
       "      <th>Duration</th>\n",
       "      <th>Reaching_Time</th>\n",
       "      <th>Star_Rating</th>\n",
       "      <th>Price</th>\n",
       "      <th>Seat_Availability</th>\n",
       "    </tr>\n",
       "  </thead>\n",
       "  <tbody>\n",
       "    <tr>\n",
       "      <th>0</th>\n",
       "      <td>Hyderabad to Vijayawada</td>\n",
       "      <td>https://www.redbus.in/bus-tickets/hyderabad-to...</td>\n",
       "      <td>FRESHBUS</td>\n",
       "      <td>Electric A/C Seater (2+2)</td>\n",
       "      <td>00:20</td>\n",
       "      <td>06h 10m</td>\n",
       "      <td>06:30</td>\n",
       "      <td>4.6</td>\n",
       "      <td>829</td>\n",
       "      <td>22 Seats available</td>\n",
       "    </tr>\n",
       "    <tr>\n",
       "      <th>1</th>\n",
       "      <td>Hyderabad to Vijayawada</td>\n",
       "      <td>https://www.redbus.in/bus-tickets/hyderabad-to...</td>\n",
       "      <td>FRESHBUS</td>\n",
       "      <td>Electric A/C Seater (2+2)</td>\n",
       "      <td>23:10</td>\n",
       "      <td>06h 25m</td>\n",
       "      <td>05:35</td>\n",
       "      <td>4.5</td>\n",
       "      <td>829</td>\n",
       "      <td>19 Seats available</td>\n",
       "    </tr>\n",
       "  </tbody>\n",
       "</table>\n",
       "</div>"
      ],
      "text/plain": [
       "                Route_Name                                         Route_Link  \\\n",
       "0  Hyderabad to Vijayawada  https://www.redbus.in/bus-tickets/hyderabad-to...   \n",
       "1  Hyderabad to Vijayawada  https://www.redbus.in/bus-tickets/hyderabad-to...   \n",
       "\n",
       "   Bus_Name                   Bus_Type Departing_Time Duration Reaching_Time  \\\n",
       "0  FRESHBUS  Electric A/C Seater (2+2)          00:20  06h 10m         06:30   \n",
       "1  FRESHBUS  Electric A/C Seater (2+2)          23:10  06h 25m         05:35   \n",
       "\n",
       "   Star_Rating Price   Seat_Availability  \n",
       "0          4.6   829  22 Seats available  \n",
       "1          4.5   829  19 Seats available  "
      ]
     },
     "execution_count": 9,
     "metadata": {},
     "output_type": "execute_result"
    }
   ],
   "source": [
    "all_bus_routes_df.head(2)"
   ]
  },
  {
   "cell_type": "code",
   "execution_count": null,
   "metadata": {},
   "outputs": [],
   "source": [
    "all_bus_routes_df['Route_Name'].unique()"
   ]
  },
  {
   "cell_type": "code",
   "execution_count": 13,
   "metadata": {},
   "outputs": [],
   "source": [
    "    # Save the DataFrame to a CSV file\n",
    "all_bus_routes_df.to_csv('all_bus_details.csv', index=False)"
   ]
  },
  {
   "cell_type": "code",
   "execution_count": null,
   "metadata": {},
   "outputs": [],
   "source": []
  }
 ],
 "metadata": {
  "kernelspec": {
   "display_name": ".venv",
   "language": "python",
   "name": "python3"
  },
  "language_info": {
   "codemirror_mode": {
    "name": "ipython",
    "version": 3
   },
   "file_extension": ".py",
   "mimetype": "text/x-python",
   "name": "python",
   "nbconvert_exporter": "python",
   "pygments_lexer": "ipython3",
   "version": "3.10.11"
  }
 },
 "nbformat": 4,
 "nbformat_minor": 2
}
