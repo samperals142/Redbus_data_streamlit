{
 "cells": [
  {
   "cell_type": "code",
   "execution_count": 1,
   "metadata": {},
   "outputs": [],
   "source": [
    "import pandas as pd\n",
    "import glob"
   ]
  },
  {
   "cell_type": "code",
   "execution_count": 2,
   "metadata": {},
   "outputs": [],
   "source": [
    "# Get a list of all CSV files in a directory\n",
    "#csv_files = glob.glob('*.csv')\n",
    "\n",
    "\n",
    "csv_files = glob.glob(r'Mod_csv\\*.csv')"
   ]
  },
  {
   "cell_type": "code",
   "execution_count": 3,
   "metadata": {},
   "outputs": [
    {
     "data": {
      "text/plain": [
       "['Mod_csv\\\\apsrtc_bus_details.csv',\n",
       " 'Mod_csv\\\\astc_bus_details.csv',\n",
       " 'Mod_csv\\\\ctu_bus_details.csv',\n",
       " 'Mod_csv\\\\hrtc_bus_details.csv',\n",
       " 'Mod_csv\\\\ktcl_bus_details.csv',\n",
       " 'Mod_csv\\\\mtc_bus_details.csv',\n",
       " 'Mod_csv\\\\north_bengal_bus_details.csv',\n",
       " 'Mod_csv\\\\punjab_bus_details.csv',\n",
       " 'Mod_csv\\\\rsrtc_bus_details.csv',\n",
       " 'Mod_csv\\\\sbstc_bus_details.csv',\n",
       " 'Mod_csv\\\\snt_bus_details.csv',\n",
       " 'Mod_csv\\\\tsrtc_bus_details.csv',\n",
       " 'Mod_csv\\\\upsrtc_bus_details.csv',\n",
       " 'Mod_csv\\\\wbtc_bus_details.csv']"
      ]
     },
     "execution_count": 3,
     "metadata": {},
     "output_type": "execute_result"
    }
   ],
   "source": [
    "csv_files"
   ]
  },
  {
   "cell_type": "code",
   "execution_count": 4,
   "metadata": {},
   "outputs": [],
   "source": [
    "# Create an empty dataframe to store the combined data\n",
    "all_bus_routes_df = pd.DataFrame()\n",
    "\n",
    "# Loop through each CSV file and append its contents to the combined dataframe\n",
    "for csv_file in csv_files:\n",
    "    df = pd.read_csv(csv_file)\n",
    "    all_bus_routes_df = pd.concat([all_bus_routes_df, df],ignore_index=True)"
   ]
  },
  {
   "cell_type": "code",
   "execution_count": 5,
   "metadata": {},
   "outputs": [
    {
     "name": "stdout",
     "output_type": "stream",
     "text": [
      "                        Route_Name  \\\n",
      "0          Hyderabad to Vijayawada   \n",
      "1          Hyderabad to Vijayawada   \n",
      "2          Hyderabad to Vijayawada   \n",
      "3          Hyderabad to Vijayawada   \n",
      "4          Hyderabad to Vijayawada   \n",
      "...                            ...   \n",
      "8617             Kolkata to Haldia   \n",
      "8618             Kolkata to Haldia   \n",
      "8619             Kolkata to Haldia   \n",
      "8620  Midnapore to Kolkata Airport   \n",
      "8621  Midnapore to Kolkata Airport   \n",
      "\n",
      "                                             Route_Link  \\\n",
      "0     https://www.redbus.in/bus-tickets/hyderabad-to...   \n",
      "1     https://www.redbus.in/bus-tickets/hyderabad-to...   \n",
      "2     https://www.redbus.in/bus-tickets/hyderabad-to...   \n",
      "3     https://www.redbus.in/bus-tickets/hyderabad-to...   \n",
      "4     https://www.redbus.in/bus-tickets/hyderabad-to...   \n",
      "...                                                 ...   \n",
      "8617  https://www.redbus.in/bus-tickets/kolkata-to-h...   \n",
      "8618  https://www.redbus.in/bus-tickets/kolkata-to-h...   \n",
      "8619  https://www.redbus.in/bus-tickets/kolkata-to-h...   \n",
      "8620  https://www.redbus.in/bus-tickets/midnapore-to...   \n",
      "8621  https://www.redbus.in/bus-tickets/midnapore-to...   \n",
      "\n",
      "                                               Bus_Name  \\\n",
      "0                                              FRESHBUS   \n",
      "1                                              FRESHBUS   \n",
      "2                                     IntrCity SmartBus   \n",
      "3                                      AdSitara Travels   \n",
      "4                                          Zingbus Plus   \n",
      "...                                                 ...   \n",
      "8617  SBSTC-KOLKATA - HALDIA - 17.30 (HALDIA DEPOT) ...   \n",
      "8618  SBSTC-KOLKATA - HALDIA - 18.15 (HALDIA DEPOT) ...   \n",
      "8619                                    Satadal Travels   \n",
      "8620              WBTC (CTC) Habra-Midnapur - 194|15:40   \n",
      "8621            WBTC (CTC) Barasat-Midnapur - 208|17:00   \n",
      "\n",
      "                                Bus_Type Departing_Time Duration  \\\n",
      "0              Electric A/C Seater (2+2)          00:20  06h 10m   \n",
      "1              Electric A/C Seater (2+2)          23:10  06h 25m   \n",
      "2     Scania AC Multi Axle Sleeper (2+1)          23:59  06h 31m   \n",
      "3                NON A/C Push Back (2+2)          22:40  05h 20m   \n",
      "4             A/C Seater / Sleeper (2+1)          23:38  06h 27m   \n",
      "...                                  ...            ...      ...   \n",
      "8617                 Non AC Seater (2+3)          17:30  03h 00m   \n",
      "8618                 Non AC Seater (2+3)          18:15  03h 00m   \n",
      "8619                    A/C Seater (2+2)          15:35  02h 40m   \n",
      "8620                 Non AC Seater (2+3)          15:40  03h 00m   \n",
      "8621                 Non AC Seater (2+3)          17:00  02h 00m   \n",
      "\n",
      "     Reaching_Time  Star_Rating     Price   Seat_Availability State_Transport  \n",
      "0            06:30          4.6       829  22 Seats available  Andhra Pradesh  \n",
      "1            05:35          4.5       829  19 Seats available  Andhra Pradesh  \n",
      "2            06:30          4.5  INR 1109  16 Seats available  Andhra Pradesh  \n",
      "3            04:00          4.6   INR 744   7 Seats available  Andhra Pradesh  \n",
      "4            06:05          4.5       807   9 Seats available  Andhra Pradesh  \n",
      "...            ...          ...       ...                 ...             ...  \n",
      "8617         20:30          4.3   INR 110  28 Seats available     West Bengal  \n",
      "8618         21:15          3.2   INR 110  31 Seats available     West Bengal  \n",
      "8619         18:15          3.9       167  23 Seats available     West Bengal  \n",
      "8620         18:40          3.6   INR 111  16 Seats available     West Bengal  \n",
      "8621         19:00          3.7   INR 111  34 Seats available     West Bengal  \n",
      "\n",
      "[8622 rows x 11 columns]\n"
     ]
    }
   ],
   "source": [
    "# Print the combined dataframe\n",
    "print(all_bus_routes_df)"
   ]
  },
  {
   "cell_type": "code",
   "execution_count": 6,
   "metadata": {},
   "outputs": [
    {
     "data": {
      "text/plain": [
       "(8622, 11)"
      ]
     },
     "execution_count": 6,
     "metadata": {},
     "output_type": "execute_result"
    }
   ],
   "source": [
    "all_bus_routes_df.shape"
   ]
  },
  {
   "cell_type": "code",
   "execution_count": 7,
   "metadata": {},
   "outputs": [
    {
     "data": {
      "text/plain": [
       "Index(['Route_Name', 'Route_Link', 'Bus_Name', 'Bus_Type', 'Departing_Time',\n",
       "       'Duration', 'Reaching_Time', 'Star_Rating', 'Price',\n",
       "       'Seat_Availability', 'State_Transport'],\n",
       "      dtype='object')"
      ]
     },
     "execution_count": 7,
     "metadata": {},
     "output_type": "execute_result"
    }
   ],
   "source": [
    "all_bus_routes_df.columns"
   ]
  },
  {
   "cell_type": "code",
   "execution_count": 8,
   "metadata": {},
   "outputs": [
    {
     "data": {
      "text/html": [
       "<div>\n",
       "<style scoped>\n",
       "    .dataframe tbody tr th:only-of-type {\n",
       "        vertical-align: middle;\n",
       "    }\n",
       "\n",
       "    .dataframe tbody tr th {\n",
       "        vertical-align: top;\n",
       "    }\n",
       "\n",
       "    .dataframe thead th {\n",
       "        text-align: right;\n",
       "    }\n",
       "</style>\n",
       "<table border=\"1\" class=\"dataframe\">\n",
       "  <thead>\n",
       "    <tr style=\"text-align: right;\">\n",
       "      <th></th>\n",
       "      <th>Route_Name</th>\n",
       "      <th>Route_Link</th>\n",
       "      <th>Bus_Name</th>\n",
       "      <th>Bus_Type</th>\n",
       "      <th>Departing_Time</th>\n",
       "      <th>Duration</th>\n",
       "      <th>Reaching_Time</th>\n",
       "      <th>Star_Rating</th>\n",
       "      <th>Price</th>\n",
       "      <th>Seat_Availability</th>\n",
       "      <th>State_Transport</th>\n",
       "    </tr>\n",
       "  </thead>\n",
       "  <tbody>\n",
       "    <tr>\n",
       "      <th>0</th>\n",
       "      <td>Hyderabad to Vijayawada</td>\n",
       "      <td>https://www.redbus.in/bus-tickets/hyderabad-to...</td>\n",
       "      <td>FRESHBUS</td>\n",
       "      <td>Electric A/C Seater (2+2)</td>\n",
       "      <td>00:20</td>\n",
       "      <td>06h 10m</td>\n",
       "      <td>06:30</td>\n",
       "      <td>4.6</td>\n",
       "      <td>829</td>\n",
       "      <td>22 Seats available</td>\n",
       "      <td>Andhra Pradesh</td>\n",
       "    </tr>\n",
       "    <tr>\n",
       "      <th>1</th>\n",
       "      <td>Hyderabad to Vijayawada</td>\n",
       "      <td>https://www.redbus.in/bus-tickets/hyderabad-to...</td>\n",
       "      <td>FRESHBUS</td>\n",
       "      <td>Electric A/C Seater (2+2)</td>\n",
       "      <td>23:10</td>\n",
       "      <td>06h 25m</td>\n",
       "      <td>05:35</td>\n",
       "      <td>4.5</td>\n",
       "      <td>829</td>\n",
       "      <td>19 Seats available</td>\n",
       "      <td>Andhra Pradesh</td>\n",
       "    </tr>\n",
       "  </tbody>\n",
       "</table>\n",
       "</div>"
      ],
      "text/plain": [
       "                Route_Name                                         Route_Link  \\\n",
       "0  Hyderabad to Vijayawada  https://www.redbus.in/bus-tickets/hyderabad-to...   \n",
       "1  Hyderabad to Vijayawada  https://www.redbus.in/bus-tickets/hyderabad-to...   \n",
       "\n",
       "   Bus_Name                   Bus_Type Departing_Time Duration Reaching_Time  \\\n",
       "0  FRESHBUS  Electric A/C Seater (2+2)          00:20  06h 10m         06:30   \n",
       "1  FRESHBUS  Electric A/C Seater (2+2)          23:10  06h 25m         05:35   \n",
       "\n",
       "   Star_Rating Price   Seat_Availability State_Transport  \n",
       "0          4.6   829  22 Seats available  Andhra Pradesh  \n",
       "1          4.5   829  19 Seats available  Andhra Pradesh  "
      ]
     },
     "execution_count": 8,
     "metadata": {},
     "output_type": "execute_result"
    }
   ],
   "source": [
    "all_bus_routes_df.head(2)"
   ]
  },
  {
   "cell_type": "code",
   "execution_count": 9,
   "metadata": {},
   "outputs": [
    {
     "data": {
      "text/plain": [
       "array(['Hyderabad to Vijayawada', 'Vijayawada to Hyderabad',\n",
       "       'Hyderabad to Ongole', 'Kakinada to Visakhapatnam',\n",
       "       'Bangalore to Tirupati', 'Bangalore to Kadapa',\n",
       "       'Ongole to Hyderabad', 'Kadapa to Bangalore',\n",
       "       'Chittoor (Andhra Pradesh) to Bangalore',\n",
       "       'Visakhapatnam to Kakinada',\n",
       "       'Bangalore to Anantapur (andhra pradesh)',\n",
       "       'Bangalore to Chittoor (Andhra Pradesh)',\n",
       "       'Anantapur (andhra pradesh) to Bangalore', 'Hyderabad to Kurnool',\n",
       "       'Tirupati to Bangalore', 'Narasaraopet to Hyderabad',\n",
       "       'Vinukonda to Hyderabad', 'Hyderabad to Vinukonda',\n",
       "       'Visakhapatnam to Vijayawada', 'Bangalore to Rayachoti',\n",
       "       'Hyderabad to Guntur (Andhra Pradesh)',\n",
       "       'Guntur (Andhra Pradesh) to Hyderabad', 'Hyderabad to Eluru',\n",
       "       'Eluru to Hyderabad', 'Bangalore to Kadiri',\n",
       "       'Madanapalli to Bangalore', 'Bangalore to Madanapalli',\n",
       "       'Macherla (andhra pradesh) to Hyderabad',\n",
       "       'Rajahmundry to Visakhapatnam', 'Nandyal to Hyderabad',\n",
       "       'Rayachoti to Bangalore', 'Kurnool to Hyderabad',\n",
       "       'Kadiri to Bangalore', 'Visakhapatnam to Rajahmundry',\n",
       "       'Hyderabad to Addanki', 'Hyderabad to Anantapur (andhra pradesh)',\n",
       "       'Hyderabad to Markapuram', 'Rajahmundry to Vijayawada',\n",
       "       'Tirupati to Chennai', 'Vijayawada to Visakhapatnam',\n",
       "       'Hyderabad to Macherla (andhra pradesh)',\n",
       "       'Hyderabad to Rajahmundry', 'Chilakaluripet to Hyderabad',\n",
       "       'Rajahmundry to Hyderabad', 'Kurnool to Bangalore',\n",
       "       'Hyderabad to Nandyal', 'Tezpur to Guwahati', 'Guwahati to Tezpur',\n",
       "       'Guwahati to Nagaon (Assam)', 'Nagaon (Assam) to Guwahati',\n",
       "       'Goalpara to Guwahati', 'Jorhat to North Lakhimpur',\n",
       "       'Dhubri to Guwahati', 'Jorhat to Dibrugarh',\n",
       "       'North Lakhimpur to Jorhat', 'Guwahati to Dhubri',\n",
       "       'Dhekiajuli to Guwahati', 'Dibrugarh to Jorhat',\n",
       "       'Jorhat to Tinsukia', 'Tezpur to Dibrugarh',\n",
       "       'North Lakhimpur to Tezpur', 'Guwahati to Biswanath Charali',\n",
       "       'North Lakhimpur to Dibrugarh', 'Tinsukia to Jorhat',\n",
       "       'Tezpur to North Lakhimpur', 'North Lakhimpur to Moran',\n",
       "       'Guwahati to Gohpur', 'Guwahati to Kaliabor',\n",
       "       'Dibrugarh to Tezpur', 'Biswanath Charali to Guwahati',\n",
       "       'Dibrugarh to North Lakhimpur',\n",
       "       'Tumuki (Tezpur Medical) to Guwahati', 'Gohpur to Guwahati',\n",
       "       'North Lakhimpur to Guwahati', 'Tezpur to Moran',\n",
       "       'Moran to Tezpur', 'Bokakhat to Dibrugarh',\n",
       "       'North Lakhimpur to Nagaon (Assam)', 'Guwahati to Golaghat',\n",
       "       'Yamuna Nagar to Chandigarh', 'Chandigarh to Delhi',\n",
       "       'Delhi to Chandigarh', 'Ludhiana to Chandigarh',\n",
       "       'Chandigarh to Yamuna Nagar', 'Chandigarh to Ludhiana',\n",
       "       'Hamirpur (Himachal Pradesh) to Chandigarh',\n",
       "       'Chandigarh to Vrindavan',\n",
       "       'Chandigarh to Hamirpur (Himachal Pradesh)',\n",
       "       'Chandigarh to Pathankot', 'Chandigarh to Dehradun',\n",
       "       'Dehradun to Chandigarh', 'Pathankot to Chandigarh',\n",
       "       'Sujanpur (himachal pradesh) to Chandigarh',\n",
       "       'Chandigarh to Sujanpur (himachal pradesh)',\n",
       "       'Talwara to Chandigarh', 'Vrindavan to Chandigarh',\n",
       "       'Chandigarh to Shimla', 'Chandigarh to Dinanagar (punjab)',\n",
       "       'Chandigarh to Baijnath', 'Dinanagar (punjab) to Chandigarh',\n",
       "       'Chandigarh to Dharamshala (Himachal Pradesh)',\n",
       "       'Chandigarh to Talwara', 'Chandigarh to Amritsar',\n",
       "       'Chandigarh to Agra', 'Rohtak to Chandigarh',\n",
       "       'Narnaul to Chandigarh', 'Amritsar to Chandigarh',\n",
       "       'Chandigarh to Haridwar', 'Hisar (Haryana) to Chandigarh',\n",
       "       'Dharamshala (Himachal Pradesh) to Chandigarh',\n",
       "       'Jawala Ji to Chandigarh', 'Baijnath to Chandigarh',\n",
       "       'Chandigarh to Rohtak', 'Chandigarh to Hisar (Haryana)',\n",
       "       'Chandigarh to Una (Himachal Pradesh)', 'Chandigarh to Rishikesh',\n",
       "       'Rishikesh to Chandigarh', 'Shimla to Chandigarh',\n",
       "       'Agra to Chandigarh', 'Haldwani to Chandigarh',\n",
       "       'Jammu (j and k) to Chandigarh', 'Chandigarh to Narnaul',\n",
       "       'Chandigarh to Jawala Ji', 'Chandigarh to Jammu (j and k)',\n",
       "       'Firozpur to Chandigarh', 'Hansi to Chandigarh',\n",
       "       'Chandigarh to Haldwani', 'Chandigarh to Firozpur',\n",
       "       'Delhi to Shimla', 'Shimla to Delhi',\n",
       "       'Hamirpur (Himachal Pradesh) to Delhi',\n",
       "       'Chamba (Himachal Pradesh) to Chandigarh',\n",
       "       'Delhi to Hamirpur (Himachal Pradesh)',\n",
       "       'Delhi to Chamba (Himachal Pradesh)',\n",
       "       'Chamba (Himachal Pradesh) to Delhi', 'Kangra to Chandigarh',\n",
       "       'Delhi to Solan', 'Delhi to Nalagarh', 'Palampur to Chandigarh',\n",
       "       'Ghumarwin to Delhi', 'Chandigarh to Kangra',\n",
       "       'Baddi (Himachal Pradesh) to Delhi', 'Manali to Chandigarh',\n",
       "       'Solan to Delhi', 'Chandigarh to Manali', 'Delhi to Sarkaghat',\n",
       "       'Ghumarwin to Chandigarh', 'Chandigarh to Kullu',\n",
       "       'Delhi to Bilaspur (Himachal Pradesh)', 'Delhi to Ghumarwin',\n",
       "       'Chamba (Himachal Pradesh) to Shimla', 'Delhi to Palampur',\n",
       "       'Chandigarh to Reckong Peo (Himachal Pradesh)',\n",
       "       'Bilaspur (Himachal Pradesh) to Delhi', 'Sarkaghat to Delhi',\n",
       "       'Manali to Delhi', 'Pune to Goa', 'Goa to Pune', 'Mumbai to Goa',\n",
       "       'Bangalore to Goa', 'Goa to Bangalore', 'Goa to Mumbai',\n",
       "       'Pandharpur to Goa', 'Goa to Pandharpur', 'Solapur to Goa',\n",
       "       'Goa to Kolhapur(Maharashtra)', 'Goa to Solapur', 'Goa to Sangli',\n",
       "       'Goa to Sangola (Solapur)', 'Goa to Miraj', 'Mopa Airport to Goa',\n",
       "       'Shivamogga to Goa', 'Goa to Satara', 'Goa to Shirdi',\n",
       "       'Mopa Airport to Margao', 'Shillong to Tura (Meghalaya)',\n",
       "       'Shillong to Guwahati', 'Silchar to Shillong',\n",
       "       'Hailakandi to Shillong', 'Shillong to Hailakandi',\n",
       "       'Shillong to Ramkrishnanagar', 'Ramkrishnanagar to Shillong',\n",
       "       'Siliguri to Kolkata', 'Kolkata to Siliguri', 'Raiganj to Kolkata',\n",
       "       'Kolkata to Raiganj', 'Kolkata to Malda', 'Malda to Kolkata',\n",
       "       'Kolkata to Balurghat',\n",
       "       'Berhampore (West Bengal) to Cooch Behar (West Bengal)',\n",
       "       'Berhampore (West Bengal) to Siliguri', 'Balurghat to Kolkata',\n",
       "       'Siliguri to Berhampore (West Bengal)', 'Kolkata to Gangarampur',\n",
       "       'Kolkata to Farakka', 'Kolkata to Islampur (West Bengal)',\n",
       "       'Raiganj to Krishnanagar (West Bengal)', 'Kolkata to Buniadpur',\n",
       "       'Siliguri to Ranaghat', 'Kolkata to Gazole',\n",
       "       'Siliguri to Krishnanagar (West Bengal)', 'Gangarampur to Kolkata',\n",
       "       'Buniadpur to Kolkata', 'Raiganj to Ranaghat',\n",
       "       'Kolkata to Kishanganj', 'Balurghat to Siliguri',\n",
       "       'Siliguri to Raiganj', 'Delhi to Patiala', 'Patiala to Delhi',\n",
       "       'Delhi to Ludhiana', 'Ludhiana to Delhi', 'Jalandhar to Delhi',\n",
       "       'Delhi to Jalandhar', 'Delhi Airport to Patiala',\n",
       "       'Ludhiana to Delhi Airport', 'Delhi Airport to Ludhiana',\n",
       "       'Jalandhar to Delhi Airport', 'Phagwara to Delhi Airport',\n",
       "       'Delhi to Phagwara', 'Delhi Airport to Jalandhar',\n",
       "       'Phagwara to Delhi', 'Delhi to Amritsar', 'Amritsar to Delhi',\n",
       "       'Amritsar to Delhi Airport', 'Delhi Airport to Phagwara',\n",
       "       'Udaipur to Jodhpur', 'Jodhpur to Ajmer',\n",
       "       'Beawar (Rajasthan) to Jaipur (Rajasthan)',\n",
       "       'Sikar to Jaipur (Rajasthan)', 'Jaipur (Rajasthan) to Jodhpur',\n",
       "       'Aligarh (uttar pradesh) to Jaipur (Rajasthan)',\n",
       "       'Jaipur (Rajasthan) to Aligarh (uttar pradesh)',\n",
       "       'Jodhpur to Beawar (Rajasthan)', 'Jaipur (Rajasthan) to Pilani',\n",
       "       'Kishangarh to Jaipur (Rajasthan)', 'Pali (Rajasthan) to Udaipur',\n",
       "       'Udaipur to Pali (Rajasthan)', 'Kota(Rajasthan) to Udaipur',\n",
       "       'Jaipur (Rajasthan) to Bhilwara', 'Sikar to Bikaner',\n",
       "       'Jaipur (Rajasthan) to Bharatpur', 'Jaipur (Rajasthan) to Mathura',\n",
       "       'Jaipur (Rajasthan) to Kota(Rajasthan)', 'Durgapur to Calcutta',\n",
       "       'Kolkata to Burdwan', 'Haldia to Calcutta', 'Kolkata to Haldia',\n",
       "       'Kolkata to Durgapur (West Bengal)',\n",
       "       'Kolkata to Arambagh (West Bengal)', 'Midnapore to Kolkata',\n",
       "       'Kolkata to Digha', 'Digha to Calcutta', 'Kolkata to Bankura',\n",
       "       'Kolkata to Midnapore', 'Kolkata to Asansol (West Bengal)',\n",
       "       'Kolkata to Nimtouri', 'Jhargram to Kolkata',\n",
       "       'Kolkata to Contai (Kanthi)', 'Kolkata to Kolaghat',\n",
       "       'Kolkata to Nandakumar (west bengal)',\n",
       "       'Kolkata to Mecheda (West Bengal)',\n",
       "       'Digha to Durgapur (West Bengal)',\n",
       "       'Midnapore to Barasat (West Bengal)',\n",
       "       'Durgapur (West Bengal) to Digha',\n",
       "       'Kolkata to Chandipur (West Bengal)',\n",
       "       'Barasat (West Bengal) to Midnapore', 'Kolkata to Debra',\n",
       "       'Kirnahar (West Bengal) to Kolkata', 'Kolkata to Panskura',\n",
       "       'Kolkata to Heria', 'Digha to Barasat (West Bengal)',\n",
       "       'Illambazar to Kolkata', 'Kolkata to Suri',\n",
       "       'Berhampore (West Bengal) to Durgapur (West Bengal)',\n",
       "       'Purulia to Durgapur (West Bengal)',\n",
       "       'Durgapur (West Bengal) to Berhampore (West Bengal)',\n",
       "       'Kolkata to Futishanko', 'Kolkata to Kirnahar (West Bengal)',\n",
       "       'Durgapur (West Bengal) to Barasat (West Bengal)',\n",
       "       'Kolkata to Ramnagar (West Bengal)',\n",
       "       'Durgapur (West Bengal) to Purulia',\n",
       "       'Durgapur (West Bengal) to Bankura', 'Kolkata to Ashari',\n",
       "       'Barasat (West Bengal) to Digha', 'Gangtok to Siliguri',\n",
       "       'Siliguri to Singtham (Sikkim)', 'Khammam to Hyderabad',\n",
       "       'Hyderabad to Khammam', 'Hyderabad to Srisailam',\n",
       "       'Karimnagar to Hyderabad', 'Hyderabad to Karimnagar',\n",
       "       'Hyderabad to Mancherial', 'Hyderabad to Nirmal',\n",
       "       'Hyderabad to Adilabad', 'Kothagudem to Hyderabad',\n",
       "       'Hyderabad to Kothagudem', 'Hyderabad to Sathupally',\n",
       "       'Hyderabad to Warangal', 'Kodad to Hyderabad',\n",
       "       'Jagityal to Hyderabad', 'Hyderabad to Bhadrachalam',\n",
       "       'Hyderabad to Tirupati', 'Hyderabad to Godavarikhani',\n",
       "       'Hyderabad to Armoor', 'Hyderabad to Kodad', 'Delhi to Bareilly',\n",
       "       'Bareilly to Delhi', 'Aligarh (uttar pradesh) to Delhi',\n",
       "       'Delhi to Aligarh (uttar pradesh)', 'Lucknow to Allahabad',\n",
       "       'Lucknow to Delhi', 'Delhi to Farrukhabad (Uttar Pradesh)',\n",
       "       'Farrukhabad (Uttar Pradesh) to Delhi', 'Badaun to Delhi',\n",
       "       'Allahabad to Lucknow', 'Lucknow to Agra',\n",
       "       'Sitapur (Uttar Pradesh) to Delhi', 'Delhi to Badaun',\n",
       "       'Delhi to Sitapur (Uttar Pradesh)', 'Agra to Delhi',\n",
       "       'Delhi to Moradabad', 'Delhi to Lucknow', 'Agra to Lucknow',\n",
       "       'Lucknow to Varanasi', 'Agra to Bareilly', 'Lucknow to Bareilly',\n",
       "       'Bareilly to Agra', 'Delhi to Agra', 'Varanasi to Lucknow',\n",
       "       'Moradabad to Delhi', 'Kanpur (Uttar Pradesh) to Jhansi',\n",
       "       'Delhi to Shahjahanpur (Uttar Pradesh)',\n",
       "       'Shahjahanpur (Uttar Pradesh) to Delhi',\n",
       "       'Gorakhpur (uttar pradesh) to Lucknow',\n",
       "       'Kanpur (Uttar Pradesh) to Bareilly',\n",
       "       'Lucknow to Kanpur (Uttar Pradesh)', 'Delhi to Pilibhit',\n",
       "       'Lucknow to Ballia', 'Delhi to Etah (Uttar Pradesh)',\n",
       "       'Lucknow to Gorakhpur (uttar pradesh)',\n",
       "       'Aligarh (uttar pradesh) to Lucknow',\n",
       "       'Aligarh (uttar pradesh) to Agra', 'Bareilly to Dehradun',\n",
       "       'Pilibhit to Delhi', 'Bareilly to Lucknow', 'Delhi to Dehradun',\n",
       "       'Varanasi to Allahabad', 'Lucknow to Mathura',\n",
       "       'Jhansi to Kanpur (Uttar Pradesh)', 'Dehradun to Bareilly',\n",
       "       'Kanpur (Uttar Pradesh) to Lucknow',\n",
       "       'Aligarh (uttar pradesh) to Greater noida (uttar pradesh)',\n",
       "       'Etah (Uttar Pradesh) to Delhi', 'Haldia to Kolkata',\n",
       "       'Midnapore to Kolkata Airport'], dtype=object)"
      ]
     },
     "execution_count": 9,
     "metadata": {},
     "output_type": "execute_result"
    }
   ],
   "source": [
    "all_bus_routes_df['Route_Name'].unique()"
   ]
  },
  {
   "cell_type": "code",
   "execution_count": 10,
   "metadata": {},
   "outputs": [
    {
     "data": {
      "text/plain": [
       "array(['Andhra Pradesh', 'Assam', 'Chandigarh', 'Himachal', 'Kadamba',\n",
       "       'Meghalaya', 'North Bengal', 'Punjab', 'Rajasthan', 'South Bengal',\n",
       "       'Sikkim', 'Telangana', 'Uttar Pradesh', 'West Bengal'],\n",
       "      dtype=object)"
      ]
     },
     "execution_count": 10,
     "metadata": {},
     "output_type": "execute_result"
    }
   ],
   "source": [
    "all_bus_routes_df['State_Transport'].unique()"
   ]
  },
  {
   "cell_type": "code",
   "execution_count": 11,
   "metadata": {},
   "outputs": [
    {
     "data": {
      "text/plain": [
       "14"
      ]
     },
     "execution_count": 11,
     "metadata": {},
     "output_type": "execute_result"
    }
   ],
   "source": [
    "all_bus_routes_df['State_Transport'].nunique()"
   ]
  },
  {
   "cell_type": "code",
   "execution_count": 12,
   "metadata": {},
   "outputs": [],
   "source": [
    "    # Save the DataFrame to a CSV file\n",
    "all_bus_routes_df.to_csv('all_bus_details.csv', index=False)"
   ]
  }
 ],
 "metadata": {
  "kernelspec": {
   "display_name": ".venv",
   "language": "python",
   "name": "python3"
  },
  "language_info": {
   "codemirror_mode": {
    "name": "ipython",
    "version": 3
   },
   "file_extension": ".py",
   "mimetype": "text/x-python",
   "name": "python",
   "nbconvert_exporter": "python",
   "pygments_lexer": "ipython3",
   "version": "3.10.11"
  }
 },
 "nbformat": 4,
 "nbformat_minor": 2
}
